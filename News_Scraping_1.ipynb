{
  "cells": [
    {
      "cell_type": "markdown",
      "source": [
        "##**TEXT 1**\n",
        "####URL : https://www.kompas.com/sports/read/2023/05/01/14300058/stephen-curry-menggila--cetak-50-poin-bersejarah-tantang-lebron-di "
      ],
      "metadata": {
        "id": "UpaUQ-Z9Vmxq"
      }
    },
    {
      "cell_type": "code",
      "source": [
        "import pandas as pd\n",
        "import numpy as np"
      ],
      "metadata": {
        "id": "euGsBp3hbG2h"
      },
      "execution_count": null,
      "outputs": []
    },
    {
      "cell_type": "code",
      "execution_count": null,
      "metadata": {
        "colab": {
          "base_uri": "https://localhost:8080/"
        },
        "id": "yBnpkvjceHH2",
        "outputId": "5bc74c2e-c2f2-4b0e-8367-a4ebde17320c"
      },
      "outputs": [
        {
          "output_type": "stream",
          "name": "stdout",
          "text": [
            "Looking in indexes: https://pypi.org/simple, https://us-python.pkg.dev/colab-wheels/public/simple/\n",
            "Requirement already satisfied: newspaper3k in /usr/local/lib/python3.10/dist-packages (0.2.8)\n",
            "Requirement already satisfied: beautifulsoup4>=4.4.1 in /usr/local/lib/python3.10/dist-packages (from newspaper3k) (4.11.2)\n",
            "Requirement already satisfied: Pillow>=3.3.0 in /usr/local/lib/python3.10/dist-packages (from newspaper3k) (8.4.0)\n",
            "Requirement already satisfied: PyYAML>=3.11 in /usr/local/lib/python3.10/dist-packages (from newspaper3k) (6.0)\n",
            "Requirement already satisfied: cssselect>=0.9.2 in /usr/local/lib/python3.10/dist-packages (from newspaper3k) (1.2.0)\n",
            "Requirement already satisfied: lxml>=3.6.0 in /usr/local/lib/python3.10/dist-packages (from newspaper3k) (4.9.2)\n",
            "Requirement already satisfied: nltk>=3.2.1 in /usr/local/lib/python3.10/dist-packages (from newspaper3k) (3.8.1)\n",
            "Requirement already satisfied: requests>=2.10.0 in /usr/local/lib/python3.10/dist-packages (from newspaper3k) (2.27.1)\n",
            "Requirement already satisfied: feedparser>=5.2.1 in /usr/local/lib/python3.10/dist-packages (from newspaper3k) (6.0.10)\n",
            "Requirement already satisfied: tldextract>=2.0.1 in /usr/local/lib/python3.10/dist-packages (from newspaper3k) (3.4.1)\n",
            "Requirement already satisfied: feedfinder2>=0.0.4 in /usr/local/lib/python3.10/dist-packages (from newspaper3k) (0.0.4)\n",
            "Requirement already satisfied: jieba3k>=0.35.1 in /usr/local/lib/python3.10/dist-packages (from newspaper3k) (0.35.1)\n",
            "Requirement already satisfied: python-dateutil>=2.5.3 in /usr/local/lib/python3.10/dist-packages (from newspaper3k) (2.8.2)\n",
            "Requirement already satisfied: tinysegmenter==0.3 in /usr/local/lib/python3.10/dist-packages (from newspaper3k) (0.3)\n",
            "Requirement already satisfied: soupsieve>1.2 in /usr/local/lib/python3.10/dist-packages (from beautifulsoup4>=4.4.1->newspaper3k) (2.4.1)\n",
            "Requirement already satisfied: six in /usr/local/lib/python3.10/dist-packages (from feedfinder2>=0.0.4->newspaper3k) (1.16.0)\n",
            "Requirement already satisfied: sgmllib3k in /usr/local/lib/python3.10/dist-packages (from feedparser>=5.2.1->newspaper3k) (1.0.0)\n",
            "Requirement already satisfied: click in /usr/local/lib/python3.10/dist-packages (from nltk>=3.2.1->newspaper3k) (8.1.3)\n",
            "Requirement already satisfied: joblib in /usr/local/lib/python3.10/dist-packages (from nltk>=3.2.1->newspaper3k) (1.2.0)\n",
            "Requirement already satisfied: regex>=2021.8.3 in /usr/local/lib/python3.10/dist-packages (from nltk>=3.2.1->newspaper3k) (2022.10.31)\n",
            "Requirement already satisfied: tqdm in /usr/local/lib/python3.10/dist-packages (from nltk>=3.2.1->newspaper3k) (4.65.0)\n",
            "Requirement already satisfied: urllib3<1.27,>=1.21.1 in /usr/local/lib/python3.10/dist-packages (from requests>=2.10.0->newspaper3k) (1.26.15)\n",
            "Requirement already satisfied: certifi>=2017.4.17 in /usr/local/lib/python3.10/dist-packages (from requests>=2.10.0->newspaper3k) (2022.12.7)\n",
            "Requirement already satisfied: charset-normalizer~=2.0.0 in /usr/local/lib/python3.10/dist-packages (from requests>=2.10.0->newspaper3k) (2.0.12)\n",
            "Requirement already satisfied: idna<4,>=2.5 in /usr/local/lib/python3.10/dist-packages (from requests>=2.10.0->newspaper3k) (3.4)\n",
            "Requirement already satisfied: requests-file>=1.4 in /usr/local/lib/python3.10/dist-packages (from tldextract>=2.0.1->newspaper3k) (1.5.1)\n",
            "Requirement already satisfied: filelock>=3.0.8 in /usr/local/lib/python3.10/dist-packages (from tldextract>=2.0.1->newspaper3k) (3.12.0)\n"
          ]
        }
      ],
      "source": [
        "!pip install newspaper3k"
      ]
    },
    {
      "cell_type": "code",
      "execution_count": null,
      "metadata": {
        "id": "vxzqReideHH4"
      },
      "outputs": [],
      "source": [
        "from newspaper import Article"
      ]
    },
    {
      "cell_type": "code",
      "execution_count": null,
      "metadata": {
        "id": "1op_hTpreHH4"
      },
      "outputs": [],
      "source": [
        "url = 'https://www.kompas.com/sports/read/2023/05/01/14300058/stephen-curry-menggila--cetak-50-poin-bersejarah-tantang-lebron-di'\n",
        "\n",
        "article = Article(url)\n",
        "\n",
        "# # Or instead you can using specific language\n",
        "\n",
        "# article = Article(url, language='en')  # English"
      ]
    },
    {
      "cell_type": "code",
      "execution_count": null,
      "metadata": {
        "id": "vd-9YlqAeHH5"
      },
      "outputs": [],
      "source": [
        "article.download()"
      ]
    },
    {
      "cell_type": "code",
      "execution_count": null,
      "metadata": {
        "id": "k_y2gM6SeHH5"
      },
      "outputs": [],
      "source": [
        "article.parse()"
      ]
    },
    {
      "cell_type": "code",
      "execution_count": null,
      "metadata": {
        "colab": {
          "base_uri": "https://localhost:8080/"
        },
        "id": "0cU3fmgueHH5",
        "outputId": "63f8c7cf-21df-422b-feca-15e5ecc6a970"
      },
      "outputs": [
        {
          "output_type": "execute_result",
          "data": {
            "text/plain": [
              "['Kompas Cyber Media', 'Benediktus Agya Pradipta', 'Afp Ezra Shaw']"
            ]
          },
          "metadata": {},
          "execution_count": 7
        }
      ],
      "source": [
        "article.authors"
      ]
    },
    {
      "cell_type": "code",
      "execution_count": null,
      "metadata": {
        "colab": {
          "base_uri": "https://localhost:8080/"
        },
        "id": "80H-NJUFeHH5",
        "outputId": "72cc9b90-bc98-4110-b2f1-d83c1437d4e3"
      },
      "outputs": [
        {
          "output_type": "execute_result",
          "data": {
            "text/plain": [
              "datetime.datetime(2023, 5, 1, 0, 0)"
            ]
          },
          "metadata": {},
          "execution_count": 8
        }
      ],
      "source": [
        "article.publish_date"
      ]
    },
    {
      "cell_type": "code",
      "execution_count": null,
      "metadata": {
        "colab": {
          "base_uri": "https://localhost:8080/",
          "height": 53
        },
        "id": "10kwv0QIeHH6",
        "outputId": "035177a6-d9a6-44f1-f1fa-e56c5fe04be8"
      },
      "outputs": [
        {
          "output_type": "execute_result",
          "data": {
            "text/plain": [
              "'https://asset.kompas.com/crops/SCNnnpzkn9kEsG3TFcvjg2Tk-tw=/0x0:1023x682/780x390/filters:watermark(data/photo/2020/03/10/5e6775b55942a.png,0,-0,1)/data/photo/2023/05/01/644f57b0c8a05.jpg'"
            ],
            "application/vnd.google.colaboratory.intrinsic+json": {
              "type": "string"
            }
          },
          "metadata": {},
          "execution_count": 9
        }
      ],
      "source": [
        "article.top_image"
      ]
    },
    {
      "cell_type": "code",
      "execution_count": null,
      "metadata": {
        "colab": {
          "base_uri": "https://localhost:8080/"
        },
        "id": "VITUF6ZdeHH6",
        "outputId": "15a4a62c-b278-4666-e1f2-3512c7ef7463"
      },
      "outputs": [
        {
          "output_type": "execute_result",
          "data": {
            "text/plain": [
              "[]"
            ]
          },
          "metadata": {},
          "execution_count": 10
        }
      ],
      "source": [
        "article.movies"
      ]
    },
    {
      "cell_type": "code",
      "source": [
        "!pip install nltk"
      ],
      "metadata": {
        "colab": {
          "base_uri": "https://localhost:8080/"
        },
        "id": "AbwltVicfAIJ",
        "outputId": "ad7f549d-2a25-46e9-b6f5-2597af07e863"
      },
      "execution_count": null,
      "outputs": [
        {
          "output_type": "stream",
          "name": "stdout",
          "text": [
            "Looking in indexes: https://pypi.org/simple, https://us-python.pkg.dev/colab-wheels/public/simple/\n",
            "Requirement already satisfied: nltk in /usr/local/lib/python3.10/dist-packages (3.8.1)\n",
            "Requirement already satisfied: click in /usr/local/lib/python3.10/dist-packages (from nltk) (8.1.3)\n",
            "Requirement already satisfied: joblib in /usr/local/lib/python3.10/dist-packages (from nltk) (1.2.0)\n",
            "Requirement already satisfied: regex>=2021.8.3 in /usr/local/lib/python3.10/dist-packages (from nltk) (2022.10.31)\n",
            "Requirement already satisfied: tqdm in /usr/local/lib/python3.10/dist-packages (from nltk) (4.65.0)\n"
          ]
        }
      ]
    },
    {
      "cell_type": "code",
      "source": [
        "import nltk\n",
        "nltk.download('punkt')"
      ],
      "metadata": {
        "colab": {
          "base_uri": "https://localhost:8080/"
        },
        "id": "Vb9pWpZuf9Im",
        "outputId": "faed6a61-69ae-4136-a994-4d85a17fa219"
      },
      "execution_count": null,
      "outputs": [
        {
          "output_type": "stream",
          "name": "stderr",
          "text": [
            "[nltk_data] Downloading package punkt to /root/nltk_data...\n",
            "[nltk_data]   Package punkt is already up-to-date!\n"
          ]
        },
        {
          "output_type": "execute_result",
          "data": {
            "text/plain": [
              "True"
            ]
          },
          "metadata": {},
          "execution_count": 12
        }
      ]
    },
    {
      "cell_type": "code",
      "execution_count": null,
      "metadata": {
        "id": "W_uK3cL0eHH6"
      },
      "outputs": [],
      "source": [
        "article.nlp()"
      ]
    },
    {
      "cell_type": "code",
      "execution_count": null,
      "metadata": {
        "colab": {
          "base_uri": "https://localhost:8080/"
        },
        "id": "45MemHd8eHH7",
        "outputId": "65f393f6-856a-4418-ec70-2182bf0e6598"
      },
      "outputs": [
        {
          "output_type": "execute_result",
          "data": {
            "text/plain": [
              "['menggila',\n",
              " 'ketujuh',\n",
              " 'poin',\n",
              " 'nba',\n",
              " 'kontra',\n",
              " 'lebron',\n",
              " 'tantang',\n",
              " 'semifinal',\n",
              " 'curry',\n",
              " 'stephen',\n",
              " 'di',\n",
              " 'pada',\n",
              " 'yang',\n",
              " 'bersejarah',\n",
              " 'cetak',\n",
              " 'sacramento',\n",
              " 'gim']"
            ]
          },
          "metadata": {},
          "execution_count": 14
        }
      ],
      "source": [
        "article.keywords"
      ]
    },
    {
      "cell_type": "code",
      "execution_count": null,
      "metadata": {
        "colab": {
          "base_uri": "https://localhost:8080/",
          "height": 87
        },
        "id": "VmR40G61eHH7",
        "outputId": "f1fd7dfa-bb32-43e4-8daf-6da2890836c7"
      },
      "outputs": [
        {
          "output_type": "execute_result",
          "data": {
            "text/plain": [
              "\"Stephen Curry yang selalu bermain sejak gim pertama kontra Sacramento Kings tampil luar biasa dalam laga penentuan tersebut.\\nDia menggila dengan torehan 50 poin dari 37 menit penampilannya pada gim ketujuh kontra De'Aaron Fox dkk.\\nBaca juga: NBA Tunjuk SUGA BTS Jadi AmbassadorTorehan 50 poin dari Stephen Curry sekaligus menjadi catatan bersejarah dalam kompetisi NBA.\\nStephen Curry menjadi pebasket pertama dalam sejarah NBA yang mampu mencetak 50 poin pada gim ketujuh.\\nSelain itu, Stephen Curry juga mencetak poin tertinggi dalam riwayat penampilannya di babak playoffs.\""
            ],
            "application/vnd.google.colaboratory.intrinsic+json": {
              "type": "string"
            }
          },
          "metadata": {},
          "execution_count": 15
        }
      ],
      "source": [
        "article.summary"
      ]
    },
    {
      "cell_type": "code",
      "execution_count": null,
      "metadata": {
        "colab": {
          "base_uri": "https://localhost:8080/",
          "height": 140
        },
        "id": "PLxd2gVteHH6",
        "outputId": "f03cd07b-e109-4f42-ad1d-158aee535818"
      },
      "outputs": [
        {
          "output_type": "execute_result",
          "data": {
            "text/plain": [
              "\"KOMPAS.com - Juru tembak Golden State Warriors, Stephen Curry, menunjukkan kualitasnya saat tampil pada gim ketujuh perempat final NBA Playoffs wilayah Barat kontra Sacramento Kings.\\n\\nGim ketujuh perempat final NBA Playoffs wilayah Barat antara Golden State Warriors dan Sacramento Kings berlangsung di Golden 1 Center, Sacramento, California, Amerika Serikat, pada Senin (1/5/2023) pagi WIB.\\n\\nStephen Curry yang selalu bermain sejak gim pertama kontra Sacramento Kings tampil luar biasa dalam laga penentuan tersebut.\\n\\nDia menggila dengan torehan 50 poin dari 37 menit penampilannya pada gim ketujuh kontra De'Aaron Fox dkk.\\n\\nBaca juga: NBA Tunjuk SUGA BTS Jadi Ambassador\\n\\nTorehan 50 poin dari Stephen Curry sekaligus menjadi catatan bersejarah dalam kompetisi NBA.\\n\\nStephen Curry menjadi pebasket pertama dalam sejarah NBA yang mampu mencetak 50 poin pada gim ketujuh.\\n\\nDia melampaui rekor 48 poin yang dicetak oleh mantan rekan setimnya, Kevin Durant, untuk Brooklyn Nets pada gim ketujuh semifinal Playoffs NBA 2021 melawan Milwaukee Bucks.\\n\\nSelain itu, Stephen Curry juga mencetak poin tertinggi dalam riwayat penampilannya di babak playoffs.\\n\\nBaca juga: Sepatu Michael Jordan di Final NBA 1998 Terjual Rp 32 Miliar\\n\\nStephen Curry berhasil memecahkan rekor yang sebelumnya ia ukir pada gim ketiga final NBA 2019 kontra Toronto Raptors.\\n\\nKala itu, Stephen Curry mampu mencetak 47 poin. Namun, Golden State Warriors tetap kalah dengan skor 109-123 dari Toronto Raptors yang kemudian keluar sebagai juara NBA 2019.\""
            ],
            "application/vnd.google.colaboratory.intrinsic+json": {
              "type": "string"
            }
          },
          "metadata": {},
          "execution_count": 16
        }
      ],
      "source": [
        "Scrapping_1 = article.text\n",
        "Scrapping_1"
      ]
    },
    {
      "cell_type": "markdown",
      "source": [
        "###**NLP Text Processing**"
      ],
      "metadata": {
        "id": "Um1-xk-OUhaS"
      }
    },
    {
      "cell_type": "markdown",
      "source": [
        "####1. **Lower Casing** : berfungsi untuk membuat semua huruf pada text menjadi huruf kecil."
      ],
      "metadata": {
        "id": "js_c6i5DUmaQ"
      }
    },
    {
      "cell_type": "markdown",
      "source": [
        "- size vektor = 50"
      ],
      "metadata": {
        "id": "ZlKVG064-1uW"
      }
    },
    {
      "cell_type": "code",
      "source": [
        "pip install spacy"
      ],
      "metadata": {
        "colab": {
          "base_uri": "https://localhost:8080/"
        },
        "id": "BVauoC4M88RJ",
        "outputId": "68244bc5-5a60-4f75-e73e-4b4bcb08377b"
      },
      "execution_count": null,
      "outputs": [
        {
          "output_type": "stream",
          "name": "stdout",
          "text": [
            "Looking in indexes: https://pypi.org/simple, https://us-python.pkg.dev/colab-wheels/public/simple/\n",
            "Requirement already satisfied: spacy in /usr/local/lib/python3.10/dist-packages (3.5.2)\n",
            "Requirement already satisfied: spacy-legacy<3.1.0,>=3.0.11 in /usr/local/lib/python3.10/dist-packages (from spacy) (3.0.12)\n",
            "Requirement already satisfied: spacy-loggers<2.0.0,>=1.0.0 in /usr/local/lib/python3.10/dist-packages (from spacy) (1.0.4)\n",
            "Requirement already satisfied: murmurhash<1.1.0,>=0.28.0 in /usr/local/lib/python3.10/dist-packages (from spacy) (1.0.9)\n",
            "Requirement already satisfied: cymem<2.1.0,>=2.0.2 in /usr/local/lib/python3.10/dist-packages (from spacy) (2.0.7)\n",
            "Requirement already satisfied: preshed<3.1.0,>=3.0.2 in /usr/local/lib/python3.10/dist-packages (from spacy) (3.0.8)\n",
            "Requirement already satisfied: thinc<8.2.0,>=8.1.8 in /usr/local/lib/python3.10/dist-packages (from spacy) (8.1.9)\n",
            "Requirement already satisfied: wasabi<1.2.0,>=0.9.1 in /usr/local/lib/python3.10/dist-packages (from spacy) (1.1.1)\n",
            "Requirement already satisfied: srsly<3.0.0,>=2.4.3 in /usr/local/lib/python3.10/dist-packages (from spacy) (2.4.6)\n",
            "Requirement already satisfied: catalogue<2.1.0,>=2.0.6 in /usr/local/lib/python3.10/dist-packages (from spacy) (2.0.8)\n",
            "Requirement already satisfied: typer<0.8.0,>=0.3.0 in /usr/local/lib/python3.10/dist-packages (from spacy) (0.7.0)\n",
            "Requirement already satisfied: pathy>=0.10.0 in /usr/local/lib/python3.10/dist-packages (from spacy) (0.10.1)\n",
            "Requirement already satisfied: smart-open<7.0.0,>=5.2.1 in /usr/local/lib/python3.10/dist-packages (from spacy) (6.3.0)\n",
            "Requirement already satisfied: tqdm<5.0.0,>=4.38.0 in /usr/local/lib/python3.10/dist-packages (from spacy) (4.65.0)\n",
            "Requirement already satisfied: numpy>=1.15.0 in /usr/local/lib/python3.10/dist-packages (from spacy) (1.22.4)\n",
            "Requirement already satisfied: requests<3.0.0,>=2.13.0 in /usr/local/lib/python3.10/dist-packages (from spacy) (2.27.1)\n",
            "Requirement already satisfied: pydantic!=1.8,!=1.8.1,<1.11.0,>=1.7.4 in /usr/local/lib/python3.10/dist-packages (from spacy) (1.10.7)\n",
            "Requirement already satisfied: jinja2 in /usr/local/lib/python3.10/dist-packages (from spacy) (3.1.2)\n",
            "Requirement already satisfied: setuptools in /usr/local/lib/python3.10/dist-packages (from spacy) (67.7.2)\n",
            "Requirement already satisfied: packaging>=20.0 in /usr/local/lib/python3.10/dist-packages (from spacy) (23.1)\n",
            "Requirement already satisfied: langcodes<4.0.0,>=3.2.0 in /usr/local/lib/python3.10/dist-packages (from spacy) (3.3.0)\n",
            "Requirement already satisfied: typing-extensions>=4.2.0 in /usr/local/lib/python3.10/dist-packages (from pydantic!=1.8,!=1.8.1,<1.11.0,>=1.7.4->spacy) (4.5.0)\n",
            "Requirement already satisfied: urllib3<1.27,>=1.21.1 in /usr/local/lib/python3.10/dist-packages (from requests<3.0.0,>=2.13.0->spacy) (1.26.15)\n",
            "Requirement already satisfied: certifi>=2017.4.17 in /usr/local/lib/python3.10/dist-packages (from requests<3.0.0,>=2.13.0->spacy) (2022.12.7)\n",
            "Requirement already satisfied: charset-normalizer~=2.0.0 in /usr/local/lib/python3.10/dist-packages (from requests<3.0.0,>=2.13.0->spacy) (2.0.12)\n",
            "Requirement already satisfied: idna<4,>=2.5 in /usr/local/lib/python3.10/dist-packages (from requests<3.0.0,>=2.13.0->spacy) (3.4)\n",
            "Requirement already satisfied: blis<0.8.0,>=0.7.8 in /usr/local/lib/python3.10/dist-packages (from thinc<8.2.0,>=8.1.8->spacy) (0.7.9)\n",
            "Requirement already satisfied: confection<1.0.0,>=0.0.1 in /usr/local/lib/python3.10/dist-packages (from thinc<8.2.0,>=8.1.8->spacy) (0.0.4)\n",
            "Requirement already satisfied: click<9.0.0,>=7.1.1 in /usr/local/lib/python3.10/dist-packages (from typer<0.8.0,>=0.3.0->spacy) (8.1.3)\n",
            "Requirement already satisfied: MarkupSafe>=2.0 in /usr/local/lib/python3.10/dist-packages (from jinja2->spacy) (2.1.2)\n"
          ]
        }
      ]
    },
    {
      "cell_type": "code",
      "source": [
        "import spacy\n",
        "\n",
        "#mengubah text menjadi huruf kecil semua\n",
        "Scrapping_1 = Scrapping_1.lower()\n",
        "\n",
        "#membuat model bahasa menggunakan nlp_low\n",
        "nlp_low = spacy.load(\"en_core_web_sm\")\n",
        "\n",
        "#memproses teks huruf kecil dengan model bahasa\n",
        "doc = nlp_low(Scrapping_1)\n",
        "\n",
        "#merepresentasi vektor dengan size 50 dari teks yang telah diproses\n",
        "vector = doc.vector[:50]\n",
        "print(vector)"
      ],
      "metadata": {
        "colab": {
          "base_uri": "https://localhost:8080/"
        },
        "id": "t-bes_lY82p8",
        "outputId": "c7b67d11-e363-4fcf-f932-38ad7b368177"
      },
      "execution_count": null,
      "outputs": [
        {
          "output_type": "stream",
          "name": "stdout",
          "text": [
            "[-0.2572803  -0.7278159   0.09693353  0.25324893  0.27843297  0.13981856\n",
            "  0.1471056   1.0520216   0.34270105  0.06407917  0.50580823  0.52758586\n",
            " -0.6451537  -0.6874819  -0.35184014  0.15913826 -0.2252825  -0.12342583\n",
            " -0.45740956 -0.3675101  -0.61691535  0.32880852 -0.36989906  0.27583936\n",
            "  0.14241455  0.05537829  0.42351726  0.84272003  0.19335665  0.10342553\n",
            " -0.14690964 -0.22468321 -0.00469847  0.5322118  -0.25244483 -0.08976509\n",
            "  0.5845972   0.40074375 -0.5931793  -0.38085902 -0.22562158 -0.06769584\n",
            " -0.15755747  0.3255759  -0.55309194 -0.03165738  0.10949861  0.23184422\n",
            " -0.0447013   0.2521955 ]\n"
          ]
        }
      ]
    },
    {
      "cell_type": "markdown",
      "source": [
        "- lowercase untuk teks keseluruhan"
      ],
      "metadata": {
        "id": "R6BEhO5Z-6Pd"
      }
    },
    {
      "cell_type": "code",
      "source": [
        "#print hasil yang telah menjadi huruf kecil dengan size vektor 50\n",
        "print(Scrapping_1)"
      ],
      "metadata": {
        "colab": {
          "base_uri": "https://localhost:8080/"
        },
        "id": "EYA1s_wuUjfr",
        "outputId": "a3efc4c4-1a6c-410e-a50c-5e70cbecce70"
      },
      "execution_count": null,
      "outputs": [
        {
          "output_type": "stream",
          "name": "stdout",
          "text": [
            "kompas.com - juru tembak golden state warriors, stephen curry, menunjukkan kualitasnya saat tampil pada gim ketujuh perempat final nba playoffs wilayah barat kontra sacramento kings.\n",
            "\n",
            "gim ketujuh perempat final nba playoffs wilayah barat antara golden state warriors dan sacramento kings berlangsung di golden 1 center, sacramento, california, amerika serikat, pada senin (1/5/2023) pagi wib.\n",
            "\n",
            "stephen curry yang selalu bermain sejak gim pertama kontra sacramento kings tampil luar biasa dalam laga penentuan tersebut.\n",
            "\n",
            "dia menggila dengan torehan 50 poin dari 37 menit penampilannya pada gim ketujuh kontra de'aaron fox dkk.\n",
            "\n",
            "baca juga: nba tunjuk suga bts jadi ambassador\n",
            "\n",
            "torehan 50 poin dari stephen curry sekaligus menjadi catatan bersejarah dalam kompetisi nba.\n",
            "\n",
            "stephen curry menjadi pebasket pertama dalam sejarah nba yang mampu mencetak 50 poin pada gim ketujuh.\n",
            "\n",
            "dia melampaui rekor 48 poin yang dicetak oleh mantan rekan setimnya, kevin durant, untuk brooklyn nets pada gim ketujuh semifinal playoffs nba 2021 melawan milwaukee bucks.\n",
            "\n",
            "selain itu, stephen curry juga mencetak poin tertinggi dalam riwayat penampilannya di babak playoffs.\n",
            "\n",
            "baca juga: sepatu michael jordan di final nba 1998 terjual rp 32 miliar\n",
            "\n",
            "stephen curry berhasil memecahkan rekor yang sebelumnya ia ukir pada gim ketiga final nba 2019 kontra toronto raptors.\n",
            "\n",
            "kala itu, stephen curry mampu mencetak 47 poin. namun, golden state warriors tetap kalah dengan skor 109-123 dari toronto raptors yang kemudian keluar sebagai juara nba 2019.\n"
          ]
        }
      ]
    },
    {
      "cell_type": "markdown",
      "source": [
        "- frequency kata yang diperhitungkan minimal 2"
      ],
      "metadata": {
        "id": "aZgNVB33-_eB"
      }
    },
    {
      "cell_type": "code",
      "source": [
        "#Split de text menjadi kata dan membuat variabel baru\n",
        "words = Scrapping_1.split()\n",
        "word_freq = {}\n",
        "\n",
        "#Menghitung frekuensi setiap kata\n",
        "for word in words:\n",
        "    if word in word_freq:\n",
        "        word_freq[word] += 1\n",
        "    else:\n",
        "        word_freq[word] = 1\n",
        "\n",
        "#Membuat variabel baru untuk frekuensi kata minimal 2\n",
        "word_freq_at_least_2 = {}\n",
        "\n",
        "#filter untuk frekuensi kata minimal 2\n",
        "for word, freq in word_freq.items():\n",
        "    if freq >= 2:\n",
        "        word_freq_at_least_2[word] = freq\n",
        "\n",
        "#print frekuensi kata minimal 2\n",
        "for word, freq in word_freq_at_least_2.items():\n",
        "    print(f\"{word}: {freq}\")"
      ],
      "metadata": {
        "id": "wuQnFC4HIu77",
        "outputId": "ad14c5e4-2304-4f66-9a2c-8803fd088198",
        "colab": {
          "base_uri": "https://localhost:8080/"
        }
      },
      "execution_count": 31,
      "outputs": [
        {
          "output_type": "stream",
          "name": "stdout",
          "text": [
            "golden: 4\n",
            "state: 3\n",
            "stephen: 7\n",
            "tampil: 2\n",
            "pada: 6\n",
            "gim: 7\n",
            "ketujuh: 4\n",
            "perempat: 2\n",
            "final: 4\n",
            "nba: 8\n",
            "playoffs: 3\n",
            "wilayah: 2\n",
            "barat: 2\n",
            "kontra: 4\n",
            "sacramento: 3\n",
            "warriors: 2\n",
            "kings: 2\n",
            "di: 3\n",
            "curry: 6\n",
            "yang: 5\n",
            "pertama: 2\n",
            "dalam: 4\n",
            "dia: 2\n",
            "dengan: 2\n",
            "torehan: 2\n",
            "50: 3\n",
            "poin: 5\n",
            "dari: 3\n",
            "penampilannya: 2\n",
            "baca: 2\n",
            "juga:: 2\n",
            "menjadi: 2\n",
            "mampu: 2\n",
            "mencetak: 3\n",
            "rekor: 2\n",
            "itu,: 2\n",
            "toronto: 2\n"
          ]
        }
      ]
    },
    {
      "cell_type": "markdown",
      "source": [
        "####2. **Tokenization** : berfungsi untuk membagi teks yang dapat berupa kalimat, paragraf atau dokumen, menjadi token-token/bagian-bagian tertentu."
      ],
      "metadata": {
        "id": "TYks-5WKWKgF"
      }
    },
    {
      "cell_type": "markdown",
      "source": [
        "a. **Sentences Tokenization/Tokenisasi kalimat** : berfungsi untuk membagi string bahasa tertulis menjadi kalimat komponennya. kita dapat memisahkan kalimat setiap kali kita melihat tanda baca."
      ],
      "metadata": {
        "id": "pgvB7J-cW0ZD"
      }
    },
    {
      "cell_type": "markdown",
      "source": [
        "Untuk menerapkan tokenisasi kalimat dengan NLTK kita dapat menggunakan fungsi \"nltk.sent_tokenize\""
      ],
      "metadata": {
        "id": "ztUcA-kDWlob"
      }
    },
    {
      "cell_type": "code",
      "source": [
        "sentences_1 = nltk.sent_tokenize(Scrapping_1)\n",
        "for sentence in sentences_1:\n",
        "    print(sentences_1)\n",
        "    print()"
      ],
      "metadata": {
        "colab": {
          "base_uri": "https://localhost:8080/"
        },
        "id": "rdwq9pLBWcO3",
        "outputId": "cd112380-e799-41ae-e202-ec3ed0c69537"
      },
      "execution_count": null,
      "outputs": [
        {
          "output_type": "stream",
          "name": "stdout",
          "text": [
            "['kompas.com - juru tembak golden state warriors, stephen curry, menunjukkan kualitasnya saat tampil pada gim ketujuh perempat final nba playoffs wilayah barat kontra sacramento kings.', 'gim ketujuh perempat final nba playoffs wilayah barat antara golden state warriors dan sacramento kings berlangsung di golden 1 center, sacramento, california, amerika serikat, pada senin (1/5/2023) pagi wib.', 'stephen curry yang selalu bermain sejak gim pertama kontra sacramento kings tampil luar biasa dalam laga penentuan tersebut.', \"dia menggila dengan torehan 50 poin dari 37 menit penampilannya pada gim ketujuh kontra de'aaron fox dkk.\", 'baca juga: nba tunjuk suga bts jadi ambassador\\n\\ntorehan 50 poin dari stephen curry sekaligus menjadi catatan bersejarah dalam kompetisi nba.', 'stephen curry menjadi pebasket pertama dalam sejarah nba yang mampu mencetak 50 poin pada gim ketujuh.', 'dia melampaui rekor 48 poin yang dicetak oleh mantan rekan setimnya, kevin durant, untuk brooklyn nets pada gim ketujuh semifinal playoffs nba 2021 melawan milwaukee bucks.', 'selain itu, stephen curry juga mencetak poin tertinggi dalam riwayat penampilannya di babak playoffs.', 'baca juga: sepatu michael jordan di final nba 1998 terjual rp 32 miliar\\n\\nstephen curry berhasil memecahkan rekor yang sebelumnya ia ukir pada gim ketiga final nba 2019 kontra toronto raptors.', 'kala itu, stephen curry mampu mencetak 47 poin.', 'namun, golden state warriors tetap kalah dengan skor 109-123 dari toronto raptors yang kemudian keluar sebagai juara nba 2019.']\n",
            "\n",
            "['kompas.com - juru tembak golden state warriors, stephen curry, menunjukkan kualitasnya saat tampil pada gim ketujuh perempat final nba playoffs wilayah barat kontra sacramento kings.', 'gim ketujuh perempat final nba playoffs wilayah barat antara golden state warriors dan sacramento kings berlangsung di golden 1 center, sacramento, california, amerika serikat, pada senin (1/5/2023) pagi wib.', 'stephen curry yang selalu bermain sejak gim pertama kontra sacramento kings tampil luar biasa dalam laga penentuan tersebut.', \"dia menggila dengan torehan 50 poin dari 37 menit penampilannya pada gim ketujuh kontra de'aaron fox dkk.\", 'baca juga: nba tunjuk suga bts jadi ambassador\\n\\ntorehan 50 poin dari stephen curry sekaligus menjadi catatan bersejarah dalam kompetisi nba.', 'stephen curry menjadi pebasket pertama dalam sejarah nba yang mampu mencetak 50 poin pada gim ketujuh.', 'dia melampaui rekor 48 poin yang dicetak oleh mantan rekan setimnya, kevin durant, untuk brooklyn nets pada gim ketujuh semifinal playoffs nba 2021 melawan milwaukee bucks.', 'selain itu, stephen curry juga mencetak poin tertinggi dalam riwayat penampilannya di babak playoffs.', 'baca juga: sepatu michael jordan di final nba 1998 terjual rp 32 miliar\\n\\nstephen curry berhasil memecahkan rekor yang sebelumnya ia ukir pada gim ketiga final nba 2019 kontra toronto raptors.', 'kala itu, stephen curry mampu mencetak 47 poin.', 'namun, golden state warriors tetap kalah dengan skor 109-123 dari toronto raptors yang kemudian keluar sebagai juara nba 2019.']\n",
            "\n",
            "['kompas.com - juru tembak golden state warriors, stephen curry, menunjukkan kualitasnya saat tampil pada gim ketujuh perempat final nba playoffs wilayah barat kontra sacramento kings.', 'gim ketujuh perempat final nba playoffs wilayah barat antara golden state warriors dan sacramento kings berlangsung di golden 1 center, sacramento, california, amerika serikat, pada senin (1/5/2023) pagi wib.', 'stephen curry yang selalu bermain sejak gim pertama kontra sacramento kings tampil luar biasa dalam laga penentuan tersebut.', \"dia menggila dengan torehan 50 poin dari 37 menit penampilannya pada gim ketujuh kontra de'aaron fox dkk.\", 'baca juga: nba tunjuk suga bts jadi ambassador\\n\\ntorehan 50 poin dari stephen curry sekaligus menjadi catatan bersejarah dalam kompetisi nba.', 'stephen curry menjadi pebasket pertama dalam sejarah nba yang mampu mencetak 50 poin pada gim ketujuh.', 'dia melampaui rekor 48 poin yang dicetak oleh mantan rekan setimnya, kevin durant, untuk brooklyn nets pada gim ketujuh semifinal playoffs nba 2021 melawan milwaukee bucks.', 'selain itu, stephen curry juga mencetak poin tertinggi dalam riwayat penampilannya di babak playoffs.', 'baca juga: sepatu michael jordan di final nba 1998 terjual rp 32 miliar\\n\\nstephen curry berhasil memecahkan rekor yang sebelumnya ia ukir pada gim ketiga final nba 2019 kontra toronto raptors.', 'kala itu, stephen curry mampu mencetak 47 poin.', 'namun, golden state warriors tetap kalah dengan skor 109-123 dari toronto raptors yang kemudian keluar sebagai juara nba 2019.']\n",
            "\n",
            "['kompas.com - juru tembak golden state warriors, stephen curry, menunjukkan kualitasnya saat tampil pada gim ketujuh perempat final nba playoffs wilayah barat kontra sacramento kings.', 'gim ketujuh perempat final nba playoffs wilayah barat antara golden state warriors dan sacramento kings berlangsung di golden 1 center, sacramento, california, amerika serikat, pada senin (1/5/2023) pagi wib.', 'stephen curry yang selalu bermain sejak gim pertama kontra sacramento kings tampil luar biasa dalam laga penentuan tersebut.', \"dia menggila dengan torehan 50 poin dari 37 menit penampilannya pada gim ketujuh kontra de'aaron fox dkk.\", 'baca juga: nba tunjuk suga bts jadi ambassador\\n\\ntorehan 50 poin dari stephen curry sekaligus menjadi catatan bersejarah dalam kompetisi nba.', 'stephen curry menjadi pebasket pertama dalam sejarah nba yang mampu mencetak 50 poin pada gim ketujuh.', 'dia melampaui rekor 48 poin yang dicetak oleh mantan rekan setimnya, kevin durant, untuk brooklyn nets pada gim ketujuh semifinal playoffs nba 2021 melawan milwaukee bucks.', 'selain itu, stephen curry juga mencetak poin tertinggi dalam riwayat penampilannya di babak playoffs.', 'baca juga: sepatu michael jordan di final nba 1998 terjual rp 32 miliar\\n\\nstephen curry berhasil memecahkan rekor yang sebelumnya ia ukir pada gim ketiga final nba 2019 kontra toronto raptors.', 'kala itu, stephen curry mampu mencetak 47 poin.', 'namun, golden state warriors tetap kalah dengan skor 109-123 dari toronto raptors yang kemudian keluar sebagai juara nba 2019.']\n",
            "\n",
            "['kompas.com - juru tembak golden state warriors, stephen curry, menunjukkan kualitasnya saat tampil pada gim ketujuh perempat final nba playoffs wilayah barat kontra sacramento kings.', 'gim ketujuh perempat final nba playoffs wilayah barat antara golden state warriors dan sacramento kings berlangsung di golden 1 center, sacramento, california, amerika serikat, pada senin (1/5/2023) pagi wib.', 'stephen curry yang selalu bermain sejak gim pertama kontra sacramento kings tampil luar biasa dalam laga penentuan tersebut.', \"dia menggila dengan torehan 50 poin dari 37 menit penampilannya pada gim ketujuh kontra de'aaron fox dkk.\", 'baca juga: nba tunjuk suga bts jadi ambassador\\n\\ntorehan 50 poin dari stephen curry sekaligus menjadi catatan bersejarah dalam kompetisi nba.', 'stephen curry menjadi pebasket pertama dalam sejarah nba yang mampu mencetak 50 poin pada gim ketujuh.', 'dia melampaui rekor 48 poin yang dicetak oleh mantan rekan setimnya, kevin durant, untuk brooklyn nets pada gim ketujuh semifinal playoffs nba 2021 melawan milwaukee bucks.', 'selain itu, stephen curry juga mencetak poin tertinggi dalam riwayat penampilannya di babak playoffs.', 'baca juga: sepatu michael jordan di final nba 1998 terjual rp 32 miliar\\n\\nstephen curry berhasil memecahkan rekor yang sebelumnya ia ukir pada gim ketiga final nba 2019 kontra toronto raptors.', 'kala itu, stephen curry mampu mencetak 47 poin.', 'namun, golden state warriors tetap kalah dengan skor 109-123 dari toronto raptors yang kemudian keluar sebagai juara nba 2019.']\n",
            "\n",
            "['kompas.com - juru tembak golden state warriors, stephen curry, menunjukkan kualitasnya saat tampil pada gim ketujuh perempat final nba playoffs wilayah barat kontra sacramento kings.', 'gim ketujuh perempat final nba playoffs wilayah barat antara golden state warriors dan sacramento kings berlangsung di golden 1 center, sacramento, california, amerika serikat, pada senin (1/5/2023) pagi wib.', 'stephen curry yang selalu bermain sejak gim pertama kontra sacramento kings tampil luar biasa dalam laga penentuan tersebut.', \"dia menggila dengan torehan 50 poin dari 37 menit penampilannya pada gim ketujuh kontra de'aaron fox dkk.\", 'baca juga: nba tunjuk suga bts jadi ambassador\\n\\ntorehan 50 poin dari stephen curry sekaligus menjadi catatan bersejarah dalam kompetisi nba.', 'stephen curry menjadi pebasket pertama dalam sejarah nba yang mampu mencetak 50 poin pada gim ketujuh.', 'dia melampaui rekor 48 poin yang dicetak oleh mantan rekan setimnya, kevin durant, untuk brooklyn nets pada gim ketujuh semifinal playoffs nba 2021 melawan milwaukee bucks.', 'selain itu, stephen curry juga mencetak poin tertinggi dalam riwayat penampilannya di babak playoffs.', 'baca juga: sepatu michael jordan di final nba 1998 terjual rp 32 miliar\\n\\nstephen curry berhasil memecahkan rekor yang sebelumnya ia ukir pada gim ketiga final nba 2019 kontra toronto raptors.', 'kala itu, stephen curry mampu mencetak 47 poin.', 'namun, golden state warriors tetap kalah dengan skor 109-123 dari toronto raptors yang kemudian keluar sebagai juara nba 2019.']\n",
            "\n",
            "['kompas.com - juru tembak golden state warriors, stephen curry, menunjukkan kualitasnya saat tampil pada gim ketujuh perempat final nba playoffs wilayah barat kontra sacramento kings.', 'gim ketujuh perempat final nba playoffs wilayah barat antara golden state warriors dan sacramento kings berlangsung di golden 1 center, sacramento, california, amerika serikat, pada senin (1/5/2023) pagi wib.', 'stephen curry yang selalu bermain sejak gim pertama kontra sacramento kings tampil luar biasa dalam laga penentuan tersebut.', \"dia menggila dengan torehan 50 poin dari 37 menit penampilannya pada gim ketujuh kontra de'aaron fox dkk.\", 'baca juga: nba tunjuk suga bts jadi ambassador\\n\\ntorehan 50 poin dari stephen curry sekaligus menjadi catatan bersejarah dalam kompetisi nba.', 'stephen curry menjadi pebasket pertama dalam sejarah nba yang mampu mencetak 50 poin pada gim ketujuh.', 'dia melampaui rekor 48 poin yang dicetak oleh mantan rekan setimnya, kevin durant, untuk brooklyn nets pada gim ketujuh semifinal playoffs nba 2021 melawan milwaukee bucks.', 'selain itu, stephen curry juga mencetak poin tertinggi dalam riwayat penampilannya di babak playoffs.', 'baca juga: sepatu michael jordan di final nba 1998 terjual rp 32 miliar\\n\\nstephen curry berhasil memecahkan rekor yang sebelumnya ia ukir pada gim ketiga final nba 2019 kontra toronto raptors.', 'kala itu, stephen curry mampu mencetak 47 poin.', 'namun, golden state warriors tetap kalah dengan skor 109-123 dari toronto raptors yang kemudian keluar sebagai juara nba 2019.']\n",
            "\n",
            "['kompas.com - juru tembak golden state warriors, stephen curry, menunjukkan kualitasnya saat tampil pada gim ketujuh perempat final nba playoffs wilayah barat kontra sacramento kings.', 'gim ketujuh perempat final nba playoffs wilayah barat antara golden state warriors dan sacramento kings berlangsung di golden 1 center, sacramento, california, amerika serikat, pada senin (1/5/2023) pagi wib.', 'stephen curry yang selalu bermain sejak gim pertama kontra sacramento kings tampil luar biasa dalam laga penentuan tersebut.', \"dia menggila dengan torehan 50 poin dari 37 menit penampilannya pada gim ketujuh kontra de'aaron fox dkk.\", 'baca juga: nba tunjuk suga bts jadi ambassador\\n\\ntorehan 50 poin dari stephen curry sekaligus menjadi catatan bersejarah dalam kompetisi nba.', 'stephen curry menjadi pebasket pertama dalam sejarah nba yang mampu mencetak 50 poin pada gim ketujuh.', 'dia melampaui rekor 48 poin yang dicetak oleh mantan rekan setimnya, kevin durant, untuk brooklyn nets pada gim ketujuh semifinal playoffs nba 2021 melawan milwaukee bucks.', 'selain itu, stephen curry juga mencetak poin tertinggi dalam riwayat penampilannya di babak playoffs.', 'baca juga: sepatu michael jordan di final nba 1998 terjual rp 32 miliar\\n\\nstephen curry berhasil memecahkan rekor yang sebelumnya ia ukir pada gim ketiga final nba 2019 kontra toronto raptors.', 'kala itu, stephen curry mampu mencetak 47 poin.', 'namun, golden state warriors tetap kalah dengan skor 109-123 dari toronto raptors yang kemudian keluar sebagai juara nba 2019.']\n",
            "\n",
            "['kompas.com - juru tembak golden state warriors, stephen curry, menunjukkan kualitasnya saat tampil pada gim ketujuh perempat final nba playoffs wilayah barat kontra sacramento kings.', 'gim ketujuh perempat final nba playoffs wilayah barat antara golden state warriors dan sacramento kings berlangsung di golden 1 center, sacramento, california, amerika serikat, pada senin (1/5/2023) pagi wib.', 'stephen curry yang selalu bermain sejak gim pertama kontra sacramento kings tampil luar biasa dalam laga penentuan tersebut.', \"dia menggila dengan torehan 50 poin dari 37 menit penampilannya pada gim ketujuh kontra de'aaron fox dkk.\", 'baca juga: nba tunjuk suga bts jadi ambassador\\n\\ntorehan 50 poin dari stephen curry sekaligus menjadi catatan bersejarah dalam kompetisi nba.', 'stephen curry menjadi pebasket pertama dalam sejarah nba yang mampu mencetak 50 poin pada gim ketujuh.', 'dia melampaui rekor 48 poin yang dicetak oleh mantan rekan setimnya, kevin durant, untuk brooklyn nets pada gim ketujuh semifinal playoffs nba 2021 melawan milwaukee bucks.', 'selain itu, stephen curry juga mencetak poin tertinggi dalam riwayat penampilannya di babak playoffs.', 'baca juga: sepatu michael jordan di final nba 1998 terjual rp 32 miliar\\n\\nstephen curry berhasil memecahkan rekor yang sebelumnya ia ukir pada gim ketiga final nba 2019 kontra toronto raptors.', 'kala itu, stephen curry mampu mencetak 47 poin.', 'namun, golden state warriors tetap kalah dengan skor 109-123 dari toronto raptors yang kemudian keluar sebagai juara nba 2019.']\n",
            "\n",
            "['kompas.com - juru tembak golden state warriors, stephen curry, menunjukkan kualitasnya saat tampil pada gim ketujuh perempat final nba playoffs wilayah barat kontra sacramento kings.', 'gim ketujuh perempat final nba playoffs wilayah barat antara golden state warriors dan sacramento kings berlangsung di golden 1 center, sacramento, california, amerika serikat, pada senin (1/5/2023) pagi wib.', 'stephen curry yang selalu bermain sejak gim pertama kontra sacramento kings tampil luar biasa dalam laga penentuan tersebut.', \"dia menggila dengan torehan 50 poin dari 37 menit penampilannya pada gim ketujuh kontra de'aaron fox dkk.\", 'baca juga: nba tunjuk suga bts jadi ambassador\\n\\ntorehan 50 poin dari stephen curry sekaligus menjadi catatan bersejarah dalam kompetisi nba.', 'stephen curry menjadi pebasket pertama dalam sejarah nba yang mampu mencetak 50 poin pada gim ketujuh.', 'dia melampaui rekor 48 poin yang dicetak oleh mantan rekan setimnya, kevin durant, untuk brooklyn nets pada gim ketujuh semifinal playoffs nba 2021 melawan milwaukee bucks.', 'selain itu, stephen curry juga mencetak poin tertinggi dalam riwayat penampilannya di babak playoffs.', 'baca juga: sepatu michael jordan di final nba 1998 terjual rp 32 miliar\\n\\nstephen curry berhasil memecahkan rekor yang sebelumnya ia ukir pada gim ketiga final nba 2019 kontra toronto raptors.', 'kala itu, stephen curry mampu mencetak 47 poin.', 'namun, golden state warriors tetap kalah dengan skor 109-123 dari toronto raptors yang kemudian keluar sebagai juara nba 2019.']\n",
            "\n",
            "['kompas.com - juru tembak golden state warriors, stephen curry, menunjukkan kualitasnya saat tampil pada gim ketujuh perempat final nba playoffs wilayah barat kontra sacramento kings.', 'gim ketujuh perempat final nba playoffs wilayah barat antara golden state warriors dan sacramento kings berlangsung di golden 1 center, sacramento, california, amerika serikat, pada senin (1/5/2023) pagi wib.', 'stephen curry yang selalu bermain sejak gim pertama kontra sacramento kings tampil luar biasa dalam laga penentuan tersebut.', \"dia menggila dengan torehan 50 poin dari 37 menit penampilannya pada gim ketujuh kontra de'aaron fox dkk.\", 'baca juga: nba tunjuk suga bts jadi ambassador\\n\\ntorehan 50 poin dari stephen curry sekaligus menjadi catatan bersejarah dalam kompetisi nba.', 'stephen curry menjadi pebasket pertama dalam sejarah nba yang mampu mencetak 50 poin pada gim ketujuh.', 'dia melampaui rekor 48 poin yang dicetak oleh mantan rekan setimnya, kevin durant, untuk brooklyn nets pada gim ketujuh semifinal playoffs nba 2021 melawan milwaukee bucks.', 'selain itu, stephen curry juga mencetak poin tertinggi dalam riwayat penampilannya di babak playoffs.', 'baca juga: sepatu michael jordan di final nba 1998 terjual rp 32 miliar\\n\\nstephen curry berhasil memecahkan rekor yang sebelumnya ia ukir pada gim ketiga final nba 2019 kontra toronto raptors.', 'kala itu, stephen curry mampu mencetak 47 poin.', 'namun, golden state warriors tetap kalah dengan skor 109-123 dari toronto raptors yang kemudian keluar sebagai juara nba 2019.']\n",
            "\n"
          ]
        }
      ]
    },
    {
      "cell_type": "markdown",
      "source": [
        "b. **Words Tokenization/Tokenisasi kata** : berfungsi untuk membagi string bahasa tertulis menjadi kata-kata komponennya. Dalam bahasa Inggris dan banyak bahasa lain yang menggunakan beberapa bentuk abjad Latin, spasi adalah perkiraan yang baik untuk pemisah kata."
      ],
      "metadata": {
        "id": "IebiHmD_XOu0"
      }
    },
    {
      "cell_type": "markdown",
      "source": [
        "Untuk menerapkan tokenisasi kalimat dengan NLTK kita dapat menggunakan fungsi \"nltk.word_tokenize\""
      ],
      "metadata": {
        "id": "7Ny37c69XnBL"
      }
    },
    {
      "cell_type": "code",
      "source": [
        "words_1 = nltk.word_tokenize(sentence)\n",
        "for sentence in sentences_1:\n",
        "    print(words_1)\n",
        "    print()"
      ],
      "metadata": {
        "colab": {
          "base_uri": "https://localhost:8080/"
        },
        "id": "x15pKpZpXY_w",
        "outputId": "08ea1521-50e3-4699-925c-576cca341966"
      },
      "execution_count": null,
      "outputs": [
        {
          "output_type": "stream",
          "name": "stdout",
          "text": [
            "['namun', ',', 'golden', 'state', 'warriors', 'tetap', 'kalah', 'dengan', 'skor', '109-123', 'dari', 'toronto', 'raptors', 'yang', 'kemudian', 'keluar', 'sebagai', 'juara', 'nba', '2019', '.']\n",
            "\n",
            "['namun', ',', 'golden', 'state', 'warriors', 'tetap', 'kalah', 'dengan', 'skor', '109-123', 'dari', 'toronto', 'raptors', 'yang', 'kemudian', 'keluar', 'sebagai', 'juara', 'nba', '2019', '.']\n",
            "\n",
            "['namun', ',', 'golden', 'state', 'warriors', 'tetap', 'kalah', 'dengan', 'skor', '109-123', 'dari', 'toronto', 'raptors', 'yang', 'kemudian', 'keluar', 'sebagai', 'juara', 'nba', '2019', '.']\n",
            "\n",
            "['namun', ',', 'golden', 'state', 'warriors', 'tetap', 'kalah', 'dengan', 'skor', '109-123', 'dari', 'toronto', 'raptors', 'yang', 'kemudian', 'keluar', 'sebagai', 'juara', 'nba', '2019', '.']\n",
            "\n",
            "['namun', ',', 'golden', 'state', 'warriors', 'tetap', 'kalah', 'dengan', 'skor', '109-123', 'dari', 'toronto', 'raptors', 'yang', 'kemudian', 'keluar', 'sebagai', 'juara', 'nba', '2019', '.']\n",
            "\n",
            "['namun', ',', 'golden', 'state', 'warriors', 'tetap', 'kalah', 'dengan', 'skor', '109-123', 'dari', 'toronto', 'raptors', 'yang', 'kemudian', 'keluar', 'sebagai', 'juara', 'nba', '2019', '.']\n",
            "\n",
            "['namun', ',', 'golden', 'state', 'warriors', 'tetap', 'kalah', 'dengan', 'skor', '109-123', 'dari', 'toronto', 'raptors', 'yang', 'kemudian', 'keluar', 'sebagai', 'juara', 'nba', '2019', '.']\n",
            "\n",
            "['namun', ',', 'golden', 'state', 'warriors', 'tetap', 'kalah', 'dengan', 'skor', '109-123', 'dari', 'toronto', 'raptors', 'yang', 'kemudian', 'keluar', 'sebagai', 'juara', 'nba', '2019', '.']\n",
            "\n",
            "['namun', ',', 'golden', 'state', 'warriors', 'tetap', 'kalah', 'dengan', 'skor', '109-123', 'dari', 'toronto', 'raptors', 'yang', 'kemudian', 'keluar', 'sebagai', 'juara', 'nba', '2019', '.']\n",
            "\n",
            "['namun', ',', 'golden', 'state', 'warriors', 'tetap', 'kalah', 'dengan', 'skor', '109-123', 'dari', 'toronto', 'raptors', 'yang', 'kemudian', 'keluar', 'sebagai', 'juara', 'nba', '2019', '.']\n",
            "\n",
            "['namun', ',', 'golden', 'state', 'warriors', 'tetap', 'kalah', 'dengan', 'skor', '109-123', 'dari', 'toronto', 'raptors', 'yang', 'kemudian', 'keluar', 'sebagai', 'juara', 'nba', '2019', '.']\n",
            "\n"
          ]
        }
      ]
    },
    {
      "cell_type": "markdown",
      "source": [
        "####3. **Stop Words** : berfungsi untuk menyaring kata-kata sebelum atau sesudah pemrosesan teks. Karena banyak katayang dapat menambah banyak gangguan, maka kita akan menghapus kata-kata yang tidak relevan ini."
      ],
      "metadata": {
        "id": "NKvilSxLYa81"
      }
    },
    {
      "cell_type": "code",
      "source": [
        "from nltk.corpus import stopwords\n",
        "nltk.download('stopwords')"
      ],
      "metadata": {
        "colab": {
          "base_uri": "https://localhost:8080/"
        },
        "id": "D00T-4wXY1DS",
        "outputId": "4fa72465-00d4-4070-eadf-210d3bd1e70f"
      },
      "execution_count": null,
      "outputs": [
        {
          "output_type": "stream",
          "name": "stderr",
          "text": [
            "[nltk_data] Downloading package stopwords to /root/nltk_data...\n",
            "[nltk_data]   Package stopwords is already up-to-date!\n"
          ]
        },
        {
          "output_type": "execute_result",
          "data": {
            "text/plain": [
              "True"
            ]
          },
          "metadata": {},
          "execution_count": 22
        }
      ]
    },
    {
      "cell_type": "code",
      "source": [
        "stop_words = set(stopwords.words(\"english\"))\n",
        "\n",
        "words = nltk.word_tokenize(Scrapping_1)\n",
        "without_stop_words = []\n",
        "\n",
        "for word in words:\n",
        "    if word not in stop_words:\n",
        "        without_stop_words.append(word)\n",
        "\n",
        "print(without_stop_words)"
      ],
      "metadata": {
        "colab": {
          "base_uri": "https://localhost:8080/"
        },
        "id": "XWWjYRpCZTJy",
        "outputId": "e1784fc9-88dd-468a-df9e-0ffc3850669e"
      },
      "execution_count": null,
      "outputs": [
        {
          "output_type": "stream",
          "name": "stdout",
          "text": [
            "['kompas.com', '-', 'juru', 'tembak', 'golden', 'state', 'warriors', ',', 'stephen', 'curry', ',', 'menunjukkan', 'kualitasnya', 'saat', 'tampil', 'pada', 'gim', 'ketujuh', 'perempat', 'final', 'nba', 'playoffs', 'wilayah', 'barat', 'kontra', 'sacramento', 'kings', '.', 'gim', 'ketujuh', 'perempat', 'final', 'nba', 'playoffs', 'wilayah', 'barat', 'antara', 'golden', 'state', 'warriors', 'dan', 'sacramento', 'kings', 'berlangsung', 'di', 'golden', '1', 'center', ',', 'sacramento', ',', 'california', ',', 'amerika', 'serikat', ',', 'pada', 'senin', '(', '1/5/2023', ')', 'pagi', 'wib', '.', 'stephen', 'curry', 'yang', 'selalu', 'bermain', 'sejak', 'gim', 'pertama', 'kontra', 'sacramento', 'kings', 'tampil', 'luar', 'biasa', 'dalam', 'laga', 'penentuan', 'tersebut', '.', 'dia', 'menggila', 'dengan', 'torehan', '50', 'poin', 'dari', '37', 'menit', 'penampilannya', 'pada', 'gim', 'ketujuh', 'kontra', \"de'aaron\", 'fox', 'dkk', '.', 'baca', 'juga', ':', 'nba', 'tunjuk', 'suga', 'bts', 'jadi', 'ambassador', 'torehan', '50', 'poin', 'dari', 'stephen', 'curry', 'sekaligus', 'menjadi', 'catatan', 'bersejarah', 'dalam', 'kompetisi', 'nba', '.', 'stephen', 'curry', 'menjadi', 'pebasket', 'pertama', 'dalam', 'sejarah', 'nba', 'yang', 'mampu', 'mencetak', '50', 'poin', 'pada', 'gim', 'ketujuh', '.', 'dia', 'melampaui', 'rekor', '48', 'poin', 'yang', 'dicetak', 'oleh', 'mantan', 'rekan', 'setimnya', ',', 'kevin', 'durant', ',', 'untuk', 'brooklyn', 'nets', 'pada', 'gim', 'ketujuh', 'semifinal', 'playoffs', 'nba', '2021', 'melawan', 'milwaukee', 'bucks', '.', 'selain', 'itu', ',', 'stephen', 'curry', 'juga', 'mencetak', 'poin', 'tertinggi', 'dalam', 'riwayat', 'penampilannya', 'di', 'babak', 'playoffs', '.', 'baca', 'juga', ':', 'sepatu', 'michael', 'jordan', 'di', 'final', 'nba', '1998', 'terjual', 'rp', '32', 'miliar', 'stephen', 'curry', 'berhasil', 'memecahkan', 'rekor', 'yang', 'sebelumnya', 'ia', 'ukir', 'pada', 'gim', 'ketiga', 'final', 'nba', '2019', 'kontra', 'toronto', 'raptors', '.', 'kala', 'itu', ',', 'stephen', 'curry', 'mampu', 'mencetak', '47', 'poin', '.', 'namun', ',', 'golden', 'state', 'warriors', 'tetap', 'kalah', 'dengan', 'skor', '109-123', 'dari', 'toronto', 'raptors', 'yang', 'kemudian', 'keluar', 'sebagai', 'juara', 'nba', '2019', '.']\n"
          ]
        }
      ]
    },
    {
      "cell_type": "markdown",
      "source": [
        "####4. **TF-IDF** : berfungsi untuk melakukan ukuran statistik yang digunakan untuk mengevaluasi pentingnya suatu kata bagi suatu dokumen dalam kumpulan. \n",
        "\n",
        "Nilai skor TF-IDF meningkat secara proporsional dengan berapa kali sebuah kata muncul dalam dokumen, tetapi diimbangi dengan jumlah dokumen dalam korpus yang mengandung kata tersebut."
      ],
      "metadata": {
        "id": "FOy3pralZtf0"
      }
    },
    {
      "cell_type": "code",
      "source": [
        "from sklearn.feature_extraction.text import TfidfVectorizer\n",
        "\n",
        "tfidf_vectorizer = TfidfVectorizer()\n",
        "values = tfidf_vectorizer.fit_transform(words_1)"
      ],
      "metadata": {
        "id": "jhgKM_aWbM0i"
      },
      "execution_count": null,
      "outputs": []
    },
    {
      "cell_type": "code",
      "source": [
        "#menunjukkan hasil model\n",
        "feature_names = tfidf_vectorizer.get_feature_names_out()\n",
        "TFIDF = pd.DataFrame(values.toarray(), columns = feature_names)\n",
        "TFIDF"
      ],
      "metadata": {
        "colab": {
          "base_uri": "https://localhost:8080/",
          "height": 708
        },
        "id": "BxphVjMmbO5U",
        "outputId": "ceed19fb-8c86-461b-e4da-3091782e6985"
      },
      "execution_count": null,
      "outputs": [
        {
          "output_type": "execute_result",
          "data": {
            "text/plain": [
              "         109       123  2019  dari  dengan  golden  juara  kalah  keluar  \\\n",
              "0   0.000000  0.000000   0.0   0.0     0.0     0.0    0.0    0.0     0.0   \n",
              "1   0.000000  0.000000   0.0   0.0     0.0     0.0    0.0    0.0     0.0   \n",
              "2   0.000000  0.000000   0.0   0.0     0.0     1.0    0.0    0.0     0.0   \n",
              "3   0.000000  0.000000   0.0   0.0     0.0     0.0    0.0    0.0     0.0   \n",
              "4   0.000000  0.000000   0.0   0.0     0.0     0.0    0.0    0.0     0.0   \n",
              "5   0.000000  0.000000   0.0   0.0     0.0     0.0    0.0    0.0     0.0   \n",
              "6   0.000000  0.000000   0.0   0.0     0.0     0.0    0.0    1.0     0.0   \n",
              "7   0.000000  0.000000   0.0   0.0     1.0     0.0    0.0    0.0     0.0   \n",
              "8   0.000000  0.000000   0.0   0.0     0.0     0.0    0.0    0.0     0.0   \n",
              "9   0.707107  0.707107   0.0   0.0     0.0     0.0    0.0    0.0     0.0   \n",
              "10  0.000000  0.000000   0.0   1.0     0.0     0.0    0.0    0.0     0.0   \n",
              "11  0.000000  0.000000   0.0   0.0     0.0     0.0    0.0    0.0     0.0   \n",
              "12  0.000000  0.000000   0.0   0.0     0.0     0.0    0.0    0.0     0.0   \n",
              "13  0.000000  0.000000   0.0   0.0     0.0     0.0    0.0    0.0     0.0   \n",
              "14  0.000000  0.000000   0.0   0.0     0.0     0.0    0.0    0.0     0.0   \n",
              "15  0.000000  0.000000   0.0   0.0     0.0     0.0    0.0    0.0     1.0   \n",
              "16  0.000000  0.000000   0.0   0.0     0.0     0.0    0.0    0.0     0.0   \n",
              "17  0.000000  0.000000   0.0   0.0     0.0     0.0    1.0    0.0     0.0   \n",
              "18  0.000000  0.000000   0.0   0.0     0.0     0.0    0.0    0.0     0.0   \n",
              "19  0.000000  0.000000   1.0   0.0     0.0     0.0    0.0    0.0     0.0   \n",
              "20  0.000000  0.000000   0.0   0.0     0.0     0.0    0.0    0.0     0.0   \n",
              "\n",
              "    kemudian  namun  nba  raptors  sebagai  skor  state  tetap  toronto  \\\n",
              "0        0.0    1.0  0.0      0.0      0.0   0.0    0.0    0.0      0.0   \n",
              "1        0.0    0.0  0.0      0.0      0.0   0.0    0.0    0.0      0.0   \n",
              "2        0.0    0.0  0.0      0.0      0.0   0.0    0.0    0.0      0.0   \n",
              "3        0.0    0.0  0.0      0.0      0.0   0.0    1.0    0.0      0.0   \n",
              "4        0.0    0.0  0.0      0.0      0.0   0.0    0.0    0.0      0.0   \n",
              "5        0.0    0.0  0.0      0.0      0.0   0.0    0.0    1.0      0.0   \n",
              "6        0.0    0.0  0.0      0.0      0.0   0.0    0.0    0.0      0.0   \n",
              "7        0.0    0.0  0.0      0.0      0.0   0.0    0.0    0.0      0.0   \n",
              "8        0.0    0.0  0.0      0.0      0.0   1.0    0.0    0.0      0.0   \n",
              "9        0.0    0.0  0.0      0.0      0.0   0.0    0.0    0.0      0.0   \n",
              "10       0.0    0.0  0.0      0.0      0.0   0.0    0.0    0.0      0.0   \n",
              "11       0.0    0.0  0.0      0.0      0.0   0.0    0.0    0.0      1.0   \n",
              "12       0.0    0.0  0.0      1.0      0.0   0.0    0.0    0.0      0.0   \n",
              "13       0.0    0.0  0.0      0.0      0.0   0.0    0.0    0.0      0.0   \n",
              "14       1.0    0.0  0.0      0.0      0.0   0.0    0.0    0.0      0.0   \n",
              "15       0.0    0.0  0.0      0.0      0.0   0.0    0.0    0.0      0.0   \n",
              "16       0.0    0.0  0.0      0.0      1.0   0.0    0.0    0.0      0.0   \n",
              "17       0.0    0.0  0.0      0.0      0.0   0.0    0.0    0.0      0.0   \n",
              "18       0.0    0.0  1.0      0.0      0.0   0.0    0.0    0.0      0.0   \n",
              "19       0.0    0.0  0.0      0.0      0.0   0.0    0.0    0.0      0.0   \n",
              "20       0.0    0.0  0.0      0.0      0.0   0.0    0.0    0.0      0.0   \n",
              "\n",
              "    warriors  yang  \n",
              "0        0.0   0.0  \n",
              "1        0.0   0.0  \n",
              "2        0.0   0.0  \n",
              "3        0.0   0.0  \n",
              "4        1.0   0.0  \n",
              "5        0.0   0.0  \n",
              "6        0.0   0.0  \n",
              "7        0.0   0.0  \n",
              "8        0.0   0.0  \n",
              "9        0.0   0.0  \n",
              "10       0.0   0.0  \n",
              "11       0.0   0.0  \n",
              "12       0.0   0.0  \n",
              "13       0.0   1.0  \n",
              "14       0.0   0.0  \n",
              "15       0.0   0.0  \n",
              "16       0.0   0.0  \n",
              "17       0.0   0.0  \n",
              "18       0.0   0.0  \n",
              "19       0.0   0.0  \n",
              "20       0.0   0.0  "
            ],
            "text/html": [
              "\n",
              "  <div id=\"df-637942f9-70e3-42ce-af43-25b6b307bbfd\">\n",
              "    <div class=\"colab-df-container\">\n",
              "      <div>\n",
              "<style scoped>\n",
              "    .dataframe tbody tr th:only-of-type {\n",
              "        vertical-align: middle;\n",
              "    }\n",
              "\n",
              "    .dataframe tbody tr th {\n",
              "        vertical-align: top;\n",
              "    }\n",
              "\n",
              "    .dataframe thead th {\n",
              "        text-align: right;\n",
              "    }\n",
              "</style>\n",
              "<table border=\"1\" class=\"dataframe\">\n",
              "  <thead>\n",
              "    <tr style=\"text-align: right;\">\n",
              "      <th></th>\n",
              "      <th>109</th>\n",
              "      <th>123</th>\n",
              "      <th>2019</th>\n",
              "      <th>dari</th>\n",
              "      <th>dengan</th>\n",
              "      <th>golden</th>\n",
              "      <th>juara</th>\n",
              "      <th>kalah</th>\n",
              "      <th>keluar</th>\n",
              "      <th>kemudian</th>\n",
              "      <th>namun</th>\n",
              "      <th>nba</th>\n",
              "      <th>raptors</th>\n",
              "      <th>sebagai</th>\n",
              "      <th>skor</th>\n",
              "      <th>state</th>\n",
              "      <th>tetap</th>\n",
              "      <th>toronto</th>\n",
              "      <th>warriors</th>\n",
              "      <th>yang</th>\n",
              "    </tr>\n",
              "  </thead>\n",
              "  <tbody>\n",
              "    <tr>\n",
              "      <th>0</th>\n",
              "      <td>0.000000</td>\n",
              "      <td>0.000000</td>\n",
              "      <td>0.0</td>\n",
              "      <td>0.0</td>\n",
              "      <td>0.0</td>\n",
              "      <td>0.0</td>\n",
              "      <td>0.0</td>\n",
              "      <td>0.0</td>\n",
              "      <td>0.0</td>\n",
              "      <td>0.0</td>\n",
              "      <td>1.0</td>\n",
              "      <td>0.0</td>\n",
              "      <td>0.0</td>\n",
              "      <td>0.0</td>\n",
              "      <td>0.0</td>\n",
              "      <td>0.0</td>\n",
              "      <td>0.0</td>\n",
              "      <td>0.0</td>\n",
              "      <td>0.0</td>\n",
              "      <td>0.0</td>\n",
              "    </tr>\n",
              "    <tr>\n",
              "      <th>1</th>\n",
              "      <td>0.000000</td>\n",
              "      <td>0.000000</td>\n",
              "      <td>0.0</td>\n",
              "      <td>0.0</td>\n",
              "      <td>0.0</td>\n",
              "      <td>0.0</td>\n",
              "      <td>0.0</td>\n",
              "      <td>0.0</td>\n",
              "      <td>0.0</td>\n",
              "      <td>0.0</td>\n",
              "      <td>0.0</td>\n",
              "      <td>0.0</td>\n",
              "      <td>0.0</td>\n",
              "      <td>0.0</td>\n",
              "      <td>0.0</td>\n",
              "      <td>0.0</td>\n",
              "      <td>0.0</td>\n",
              "      <td>0.0</td>\n",
              "      <td>0.0</td>\n",
              "      <td>0.0</td>\n",
              "    </tr>\n",
              "    <tr>\n",
              "      <th>2</th>\n",
              "      <td>0.000000</td>\n",
              "      <td>0.000000</td>\n",
              "      <td>0.0</td>\n",
              "      <td>0.0</td>\n",
              "      <td>0.0</td>\n",
              "      <td>1.0</td>\n",
              "      <td>0.0</td>\n",
              "      <td>0.0</td>\n",
              "      <td>0.0</td>\n",
              "      <td>0.0</td>\n",
              "      <td>0.0</td>\n",
              "      <td>0.0</td>\n",
              "      <td>0.0</td>\n",
              "      <td>0.0</td>\n",
              "      <td>0.0</td>\n",
              "      <td>0.0</td>\n",
              "      <td>0.0</td>\n",
              "      <td>0.0</td>\n",
              "      <td>0.0</td>\n",
              "      <td>0.0</td>\n",
              "    </tr>\n",
              "    <tr>\n",
              "      <th>3</th>\n",
              "      <td>0.000000</td>\n",
              "      <td>0.000000</td>\n",
              "      <td>0.0</td>\n",
              "      <td>0.0</td>\n",
              "      <td>0.0</td>\n",
              "      <td>0.0</td>\n",
              "      <td>0.0</td>\n",
              "      <td>0.0</td>\n",
              "      <td>0.0</td>\n",
              "      <td>0.0</td>\n",
              "      <td>0.0</td>\n",
              "      <td>0.0</td>\n",
              "      <td>0.0</td>\n",
              "      <td>0.0</td>\n",
              "      <td>0.0</td>\n",
              "      <td>1.0</td>\n",
              "      <td>0.0</td>\n",
              "      <td>0.0</td>\n",
              "      <td>0.0</td>\n",
              "      <td>0.0</td>\n",
              "    </tr>\n",
              "    <tr>\n",
              "      <th>4</th>\n",
              "      <td>0.000000</td>\n",
              "      <td>0.000000</td>\n",
              "      <td>0.0</td>\n",
              "      <td>0.0</td>\n",
              "      <td>0.0</td>\n",
              "      <td>0.0</td>\n",
              "      <td>0.0</td>\n",
              "      <td>0.0</td>\n",
              "      <td>0.0</td>\n",
              "      <td>0.0</td>\n",
              "      <td>0.0</td>\n",
              "      <td>0.0</td>\n",
              "      <td>0.0</td>\n",
              "      <td>0.0</td>\n",
              "      <td>0.0</td>\n",
              "      <td>0.0</td>\n",
              "      <td>0.0</td>\n",
              "      <td>0.0</td>\n",
              "      <td>1.0</td>\n",
              "      <td>0.0</td>\n",
              "    </tr>\n",
              "    <tr>\n",
              "      <th>5</th>\n",
              "      <td>0.000000</td>\n",
              "      <td>0.000000</td>\n",
              "      <td>0.0</td>\n",
              "      <td>0.0</td>\n",
              "      <td>0.0</td>\n",
              "      <td>0.0</td>\n",
              "      <td>0.0</td>\n",
              "      <td>0.0</td>\n",
              "      <td>0.0</td>\n",
              "      <td>0.0</td>\n",
              "      <td>0.0</td>\n",
              "      <td>0.0</td>\n",
              "      <td>0.0</td>\n",
              "      <td>0.0</td>\n",
              "      <td>0.0</td>\n",
              "      <td>0.0</td>\n",
              "      <td>1.0</td>\n",
              "      <td>0.0</td>\n",
              "      <td>0.0</td>\n",
              "      <td>0.0</td>\n",
              "    </tr>\n",
              "    <tr>\n",
              "      <th>6</th>\n",
              "      <td>0.000000</td>\n",
              "      <td>0.000000</td>\n",
              "      <td>0.0</td>\n",
              "      <td>0.0</td>\n",
              "      <td>0.0</td>\n",
              "      <td>0.0</td>\n",
              "      <td>0.0</td>\n",
              "      <td>1.0</td>\n",
              "      <td>0.0</td>\n",
              "      <td>0.0</td>\n",
              "      <td>0.0</td>\n",
              "      <td>0.0</td>\n",
              "      <td>0.0</td>\n",
              "      <td>0.0</td>\n",
              "      <td>0.0</td>\n",
              "      <td>0.0</td>\n",
              "      <td>0.0</td>\n",
              "      <td>0.0</td>\n",
              "      <td>0.0</td>\n",
              "      <td>0.0</td>\n",
              "    </tr>\n",
              "    <tr>\n",
              "      <th>7</th>\n",
              "      <td>0.000000</td>\n",
              "      <td>0.000000</td>\n",
              "      <td>0.0</td>\n",
              "      <td>0.0</td>\n",
              "      <td>1.0</td>\n",
              "      <td>0.0</td>\n",
              "      <td>0.0</td>\n",
              "      <td>0.0</td>\n",
              "      <td>0.0</td>\n",
              "      <td>0.0</td>\n",
              "      <td>0.0</td>\n",
              "      <td>0.0</td>\n",
              "      <td>0.0</td>\n",
              "      <td>0.0</td>\n",
              "      <td>0.0</td>\n",
              "      <td>0.0</td>\n",
              "      <td>0.0</td>\n",
              "      <td>0.0</td>\n",
              "      <td>0.0</td>\n",
              "      <td>0.0</td>\n",
              "    </tr>\n",
              "    <tr>\n",
              "      <th>8</th>\n",
              "      <td>0.000000</td>\n",
              "      <td>0.000000</td>\n",
              "      <td>0.0</td>\n",
              "      <td>0.0</td>\n",
              "      <td>0.0</td>\n",
              "      <td>0.0</td>\n",
              "      <td>0.0</td>\n",
              "      <td>0.0</td>\n",
              "      <td>0.0</td>\n",
              "      <td>0.0</td>\n",
              "      <td>0.0</td>\n",
              "      <td>0.0</td>\n",
              "      <td>0.0</td>\n",
              "      <td>0.0</td>\n",
              "      <td>1.0</td>\n",
              "      <td>0.0</td>\n",
              "      <td>0.0</td>\n",
              "      <td>0.0</td>\n",
              "      <td>0.0</td>\n",
              "      <td>0.0</td>\n",
              "    </tr>\n",
              "    <tr>\n",
              "      <th>9</th>\n",
              "      <td>0.707107</td>\n",
              "      <td>0.707107</td>\n",
              "      <td>0.0</td>\n",
              "      <td>0.0</td>\n",
              "      <td>0.0</td>\n",
              "      <td>0.0</td>\n",
              "      <td>0.0</td>\n",
              "      <td>0.0</td>\n",
              "      <td>0.0</td>\n",
              "      <td>0.0</td>\n",
              "      <td>0.0</td>\n",
              "      <td>0.0</td>\n",
              "      <td>0.0</td>\n",
              "      <td>0.0</td>\n",
              "      <td>0.0</td>\n",
              "      <td>0.0</td>\n",
              "      <td>0.0</td>\n",
              "      <td>0.0</td>\n",
              "      <td>0.0</td>\n",
              "      <td>0.0</td>\n",
              "    </tr>\n",
              "    <tr>\n",
              "      <th>10</th>\n",
              "      <td>0.000000</td>\n",
              "      <td>0.000000</td>\n",
              "      <td>0.0</td>\n",
              "      <td>1.0</td>\n",
              "      <td>0.0</td>\n",
              "      <td>0.0</td>\n",
              "      <td>0.0</td>\n",
              "      <td>0.0</td>\n",
              "      <td>0.0</td>\n",
              "      <td>0.0</td>\n",
              "      <td>0.0</td>\n",
              "      <td>0.0</td>\n",
              "      <td>0.0</td>\n",
              "      <td>0.0</td>\n",
              "      <td>0.0</td>\n",
              "      <td>0.0</td>\n",
              "      <td>0.0</td>\n",
              "      <td>0.0</td>\n",
              "      <td>0.0</td>\n",
              "      <td>0.0</td>\n",
              "    </tr>\n",
              "    <tr>\n",
              "      <th>11</th>\n",
              "      <td>0.000000</td>\n",
              "      <td>0.000000</td>\n",
              "      <td>0.0</td>\n",
              "      <td>0.0</td>\n",
              "      <td>0.0</td>\n",
              "      <td>0.0</td>\n",
              "      <td>0.0</td>\n",
              "      <td>0.0</td>\n",
              "      <td>0.0</td>\n",
              "      <td>0.0</td>\n",
              "      <td>0.0</td>\n",
              "      <td>0.0</td>\n",
              "      <td>0.0</td>\n",
              "      <td>0.0</td>\n",
              "      <td>0.0</td>\n",
              "      <td>0.0</td>\n",
              "      <td>0.0</td>\n",
              "      <td>1.0</td>\n",
              "      <td>0.0</td>\n",
              "      <td>0.0</td>\n",
              "    </tr>\n",
              "    <tr>\n",
              "      <th>12</th>\n",
              "      <td>0.000000</td>\n",
              "      <td>0.000000</td>\n",
              "      <td>0.0</td>\n",
              "      <td>0.0</td>\n",
              "      <td>0.0</td>\n",
              "      <td>0.0</td>\n",
              "      <td>0.0</td>\n",
              "      <td>0.0</td>\n",
              "      <td>0.0</td>\n",
              "      <td>0.0</td>\n",
              "      <td>0.0</td>\n",
              "      <td>0.0</td>\n",
              "      <td>1.0</td>\n",
              "      <td>0.0</td>\n",
              "      <td>0.0</td>\n",
              "      <td>0.0</td>\n",
              "      <td>0.0</td>\n",
              "      <td>0.0</td>\n",
              "      <td>0.0</td>\n",
              "      <td>0.0</td>\n",
              "    </tr>\n",
              "    <tr>\n",
              "      <th>13</th>\n",
              "      <td>0.000000</td>\n",
              "      <td>0.000000</td>\n",
              "      <td>0.0</td>\n",
              "      <td>0.0</td>\n",
              "      <td>0.0</td>\n",
              "      <td>0.0</td>\n",
              "      <td>0.0</td>\n",
              "      <td>0.0</td>\n",
              "      <td>0.0</td>\n",
              "      <td>0.0</td>\n",
              "      <td>0.0</td>\n",
              "      <td>0.0</td>\n",
              "      <td>0.0</td>\n",
              "      <td>0.0</td>\n",
              "      <td>0.0</td>\n",
              "      <td>0.0</td>\n",
              "      <td>0.0</td>\n",
              "      <td>0.0</td>\n",
              "      <td>0.0</td>\n",
              "      <td>1.0</td>\n",
              "    </tr>\n",
              "    <tr>\n",
              "      <th>14</th>\n",
              "      <td>0.000000</td>\n",
              "      <td>0.000000</td>\n",
              "      <td>0.0</td>\n",
              "      <td>0.0</td>\n",
              "      <td>0.0</td>\n",
              "      <td>0.0</td>\n",
              "      <td>0.0</td>\n",
              "      <td>0.0</td>\n",
              "      <td>0.0</td>\n",
              "      <td>1.0</td>\n",
              "      <td>0.0</td>\n",
              "      <td>0.0</td>\n",
              "      <td>0.0</td>\n",
              "      <td>0.0</td>\n",
              "      <td>0.0</td>\n",
              "      <td>0.0</td>\n",
              "      <td>0.0</td>\n",
              "      <td>0.0</td>\n",
              "      <td>0.0</td>\n",
              "      <td>0.0</td>\n",
              "    </tr>\n",
              "    <tr>\n",
              "      <th>15</th>\n",
              "      <td>0.000000</td>\n",
              "      <td>0.000000</td>\n",
              "      <td>0.0</td>\n",
              "      <td>0.0</td>\n",
              "      <td>0.0</td>\n",
              "      <td>0.0</td>\n",
              "      <td>0.0</td>\n",
              "      <td>0.0</td>\n",
              "      <td>1.0</td>\n",
              "      <td>0.0</td>\n",
              "      <td>0.0</td>\n",
              "      <td>0.0</td>\n",
              "      <td>0.0</td>\n",
              "      <td>0.0</td>\n",
              "      <td>0.0</td>\n",
              "      <td>0.0</td>\n",
              "      <td>0.0</td>\n",
              "      <td>0.0</td>\n",
              "      <td>0.0</td>\n",
              "      <td>0.0</td>\n",
              "    </tr>\n",
              "    <tr>\n",
              "      <th>16</th>\n",
              "      <td>0.000000</td>\n",
              "      <td>0.000000</td>\n",
              "      <td>0.0</td>\n",
              "      <td>0.0</td>\n",
              "      <td>0.0</td>\n",
              "      <td>0.0</td>\n",
              "      <td>0.0</td>\n",
              "      <td>0.0</td>\n",
              "      <td>0.0</td>\n",
              "      <td>0.0</td>\n",
              "      <td>0.0</td>\n",
              "      <td>0.0</td>\n",
              "      <td>0.0</td>\n",
              "      <td>1.0</td>\n",
              "      <td>0.0</td>\n",
              "      <td>0.0</td>\n",
              "      <td>0.0</td>\n",
              "      <td>0.0</td>\n",
              "      <td>0.0</td>\n",
              "      <td>0.0</td>\n",
              "    </tr>\n",
              "    <tr>\n",
              "      <th>17</th>\n",
              "      <td>0.000000</td>\n",
              "      <td>0.000000</td>\n",
              "      <td>0.0</td>\n",
              "      <td>0.0</td>\n",
              "      <td>0.0</td>\n",
              "      <td>0.0</td>\n",
              "      <td>1.0</td>\n",
              "      <td>0.0</td>\n",
              "      <td>0.0</td>\n",
              "      <td>0.0</td>\n",
              "      <td>0.0</td>\n",
              "      <td>0.0</td>\n",
              "      <td>0.0</td>\n",
              "      <td>0.0</td>\n",
              "      <td>0.0</td>\n",
              "      <td>0.0</td>\n",
              "      <td>0.0</td>\n",
              "      <td>0.0</td>\n",
              "      <td>0.0</td>\n",
              "      <td>0.0</td>\n",
              "    </tr>\n",
              "    <tr>\n",
              "      <th>18</th>\n",
              "      <td>0.000000</td>\n",
              "      <td>0.000000</td>\n",
              "      <td>0.0</td>\n",
              "      <td>0.0</td>\n",
              "      <td>0.0</td>\n",
              "      <td>0.0</td>\n",
              "      <td>0.0</td>\n",
              "      <td>0.0</td>\n",
              "      <td>0.0</td>\n",
              "      <td>0.0</td>\n",
              "      <td>0.0</td>\n",
              "      <td>1.0</td>\n",
              "      <td>0.0</td>\n",
              "      <td>0.0</td>\n",
              "      <td>0.0</td>\n",
              "      <td>0.0</td>\n",
              "      <td>0.0</td>\n",
              "      <td>0.0</td>\n",
              "      <td>0.0</td>\n",
              "      <td>0.0</td>\n",
              "    </tr>\n",
              "    <tr>\n",
              "      <th>19</th>\n",
              "      <td>0.000000</td>\n",
              "      <td>0.000000</td>\n",
              "      <td>1.0</td>\n",
              "      <td>0.0</td>\n",
              "      <td>0.0</td>\n",
              "      <td>0.0</td>\n",
              "      <td>0.0</td>\n",
              "      <td>0.0</td>\n",
              "      <td>0.0</td>\n",
              "      <td>0.0</td>\n",
              "      <td>0.0</td>\n",
              "      <td>0.0</td>\n",
              "      <td>0.0</td>\n",
              "      <td>0.0</td>\n",
              "      <td>0.0</td>\n",
              "      <td>0.0</td>\n",
              "      <td>0.0</td>\n",
              "      <td>0.0</td>\n",
              "      <td>0.0</td>\n",
              "      <td>0.0</td>\n",
              "    </tr>\n",
              "    <tr>\n",
              "      <th>20</th>\n",
              "      <td>0.000000</td>\n",
              "      <td>0.000000</td>\n",
              "      <td>0.0</td>\n",
              "      <td>0.0</td>\n",
              "      <td>0.0</td>\n",
              "      <td>0.0</td>\n",
              "      <td>0.0</td>\n",
              "      <td>0.0</td>\n",
              "      <td>0.0</td>\n",
              "      <td>0.0</td>\n",
              "      <td>0.0</td>\n",
              "      <td>0.0</td>\n",
              "      <td>0.0</td>\n",
              "      <td>0.0</td>\n",
              "      <td>0.0</td>\n",
              "      <td>0.0</td>\n",
              "      <td>0.0</td>\n",
              "      <td>0.0</td>\n",
              "      <td>0.0</td>\n",
              "      <td>0.0</td>\n",
              "    </tr>\n",
              "  </tbody>\n",
              "</table>\n",
              "</div>\n",
              "      <button class=\"colab-df-convert\" onclick=\"convertToInteractive('df-637942f9-70e3-42ce-af43-25b6b307bbfd')\"\n",
              "              title=\"Convert this dataframe to an interactive table.\"\n",
              "              style=\"display:none;\">\n",
              "        \n",
              "  <svg xmlns=\"http://www.w3.org/2000/svg\" height=\"24px\"viewBox=\"0 0 24 24\"\n",
              "       width=\"24px\">\n",
              "    <path d=\"M0 0h24v24H0V0z\" fill=\"none\"/>\n",
              "    <path d=\"M18.56 5.44l.94 2.06.94-2.06 2.06-.94-2.06-.94-.94-2.06-.94 2.06-2.06.94zm-11 1L8.5 8.5l.94-2.06 2.06-.94-2.06-.94L8.5 2.5l-.94 2.06-2.06.94zm10 10l.94 2.06.94-2.06 2.06-.94-2.06-.94-.94-2.06-.94 2.06-2.06.94z\"/><path d=\"M17.41 7.96l-1.37-1.37c-.4-.4-.92-.59-1.43-.59-.52 0-1.04.2-1.43.59L10.3 9.45l-7.72 7.72c-.78.78-.78 2.05 0 2.83L4 21.41c.39.39.9.59 1.41.59.51 0 1.02-.2 1.41-.59l7.78-7.78 2.81-2.81c.8-.78.8-2.07 0-2.86zM5.41 20L4 18.59l7.72-7.72 1.47 1.35L5.41 20z\"/>\n",
              "  </svg>\n",
              "      </button>\n",
              "      \n",
              "  <style>\n",
              "    .colab-df-container {\n",
              "      display:flex;\n",
              "      flex-wrap:wrap;\n",
              "      gap: 12px;\n",
              "    }\n",
              "\n",
              "    .colab-df-convert {\n",
              "      background-color: #E8F0FE;\n",
              "      border: none;\n",
              "      border-radius: 50%;\n",
              "      cursor: pointer;\n",
              "      display: none;\n",
              "      fill: #1967D2;\n",
              "      height: 32px;\n",
              "      padding: 0 0 0 0;\n",
              "      width: 32px;\n",
              "    }\n",
              "\n",
              "    .colab-df-convert:hover {\n",
              "      background-color: #E2EBFA;\n",
              "      box-shadow: 0px 1px 2px rgba(60, 64, 67, 0.3), 0px 1px 3px 1px rgba(60, 64, 67, 0.15);\n",
              "      fill: #174EA6;\n",
              "    }\n",
              "\n",
              "    [theme=dark] .colab-df-convert {\n",
              "      background-color: #3B4455;\n",
              "      fill: #D2E3FC;\n",
              "    }\n",
              "\n",
              "    [theme=dark] .colab-df-convert:hover {\n",
              "      background-color: #434B5C;\n",
              "      box-shadow: 0px 1px 3px 1px rgba(0, 0, 0, 0.15);\n",
              "      filter: drop-shadow(0px 1px 2px rgba(0, 0, 0, 0.3));\n",
              "      fill: #FFFFFF;\n",
              "    }\n",
              "  </style>\n",
              "\n",
              "      <script>\n",
              "        const buttonEl =\n",
              "          document.querySelector('#df-637942f9-70e3-42ce-af43-25b6b307bbfd button.colab-df-convert');\n",
              "        buttonEl.style.display =\n",
              "          google.colab.kernel.accessAllowed ? 'block' : 'none';\n",
              "\n",
              "        async function convertToInteractive(key) {\n",
              "          const element = document.querySelector('#df-637942f9-70e3-42ce-af43-25b6b307bbfd');\n",
              "          const dataTable =\n",
              "            await google.colab.kernel.invokeFunction('convertToInteractive',\n",
              "                                                     [key], {});\n",
              "          if (!dataTable) return;\n",
              "\n",
              "          const docLinkHtml = 'Like what you see? Visit the ' +\n",
              "            '<a target=\"_blank\" href=https://colab.research.google.com/notebooks/data_table.ipynb>data table notebook</a>'\n",
              "            + ' to learn more about interactive tables.';\n",
              "          element.innerHTML = '';\n",
              "          dataTable['output_type'] = 'display_data';\n",
              "          await google.colab.output.renderOutput(dataTable, element);\n",
              "          const docLink = document.createElement('div');\n",
              "          docLink.innerHTML = docLinkHtml;\n",
              "          element.appendChild(docLink);\n",
              "        }\n",
              "      </script>\n",
              "    </div>\n",
              "  </div>\n",
              "  "
            ]
          },
          "metadata": {},
          "execution_count": 26
        }
      ]
    },
    {
      "cell_type": "code",
      "source": [
        "#mengurutkan data\n",
        "sorted_data = sorted(TFIDF, reverse=True)"
      ],
      "metadata": {
        "id": "ccW4kmebGy6y"
      },
      "execution_count": null,
      "outputs": []
    },
    {
      "cell_type": "code",
      "source": [
        "#print  list kata dengan 5 nilai TF IDF tertinggi\n",
        "print(\"Top 5 highest values:\")\n",
        "for i in range(5):\n",
        "    print(sorted_data[i])"
      ],
      "metadata": {
        "colab": {
          "base_uri": "https://localhost:8080/"
        },
        "id": "01I2SUbbG2lh",
        "outputId": "dfd77ccc-4d81-402b-bc03-7113087d76d8"
      },
      "execution_count": null,
      "outputs": [
        {
          "output_type": "stream",
          "name": "stdout",
          "text": [
            "Top 5 highest values:\n",
            "yang\n",
            "warriors\n",
            "toronto\n",
            "tetap\n",
            "state\n"
          ]
        }
      ]
    }
  ],
  "metadata": {
    "kernelspec": {
      "display_name": "Python 3",
      "language": "python",
      "name": "python3"
    },
    "language_info": {
      "codemirror_mode": {
        "name": "ipython",
        "version": 3
      },
      "file_extension": ".py",
      "mimetype": "text/x-python",
      "name": "python",
      "nbconvert_exporter": "python",
      "pygments_lexer": "ipython3",
      "version": "3.7.6"
    },
    "colab": {
      "provenance": []
    }
  },
  "nbformat": 4,
  "nbformat_minor": 0
}